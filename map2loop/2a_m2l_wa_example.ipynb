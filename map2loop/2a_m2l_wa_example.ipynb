{
  "cells": [
    {
      "cell_type": "markdown",
      "metadata": {
        "id": "view-in-github",
        "colab_type": "text"
      },
      "source": [
        "<a href=\"https://colab.research.google.com/github/Loop3D/2022_iamg_workshop/blob/main/2a_m2l_wa_example.ipynb\" target=\"_parent\"><img src=\"https://colab.research.google.com/assets/colab-badge.svg\" alt=\"Open In Colab\"/></a>"
      ]
    },
    {
      "cell_type": "markdown",
      "metadata": {
        "id": "Zl_mH-3vfjV6"
      },
      "source": [
        "# 2a m2l wa example\n",
        "### Installing dependencies\n",
        "This notebook will use two main libraries from the Loop project\n",
        "1. LoopStructural -    \n",
        "https://github.com/Loop3D/LoopStructural   \n",
        "https://gmd.copernicus.org/articles/14/3915/2021/   \n",
        "2. map2loop -    \n",
        "https://github.com/Loop3D/map2loop-2   \n",
        "https://gmd.copernicus.org/articles/14/5063/2021/\n",
        "\n",
        "The following code blocks will install the required dependencies for the Loop libraries into this colab environment. \n",
        "\n",
        "\n"
      ]
    },
    {
      "cell_type": "markdown",
      "metadata": {
        "id": "zpEojO5xi2rV"
      },
      "source": [
        "## map2loop + LoopStructural"
      ]
    },
    {
      "cell_type": "markdown",
      "metadata": {
        "id": "N9Ezy7g6yHP9"
      },
      "source": [
        "In this first example we will use buid a model from geological data provided by a Geoserver instance of Geological Survey of Western Asutralia (GSWA) data from the Hamersley Province in  Western Australia and the online Digital Terrain Model and Stratigraphic Database of Australia from Geoscience Australia (GA). \n",
        "\n",
        "Five datasets are used:\n",
        "\n",
        "1. The 1:500K GSWA Interpreted Basement Geology Map\n",
        "2. The 1:500K GSWA Interpreted Basement Linear Structural features Map\n",
        "3. The GSWA WAROX structural obervations database\n",
        "4. The SRTM-based GA Digital Terrain Map of Australia\n",
        "5. Extracts from the GA Australian Stratigraphic Units Database"
      ]
    },
    {
      "cell_type": "code",
      "execution_count": null,
      "metadata": {
        "id": "NLZHTk7vmKVj"
      },
      "outputs": [],
      "source": [
        "!pip install rasterio\n",
        "!pip install git+https://github.com/geopandas/geopandas.git@v0.10.2\n",
        "!pip install hjson\n",
        "!pip install owslib\n",
        "!pip install git+https://github.com/Loop3D/map2model_cpp.git\n",
        "!pip install git+https://github.com/Loop3D/LoopProjectFile.git\n",
        "!pip install pygeos\n",
        "!pip install mplstereonet\n",
        "!pip install lavavu-osmesa\n",
        "!pip install git+https://github.com/Loop3d/LoopStructural\n",
        "!pip install git+https://github.com/Loop3d/map2loop-2.git\n",
        "!pip install beartype"
      ]
    },
    {
      "cell_type": "code",
      "execution_count": null,
      "metadata": {
        "id": "RKOuwNyFjC1Y"
      },
      "outputs": [],
      "source": [
        "bbox_3d = {'minx': 553150,\n",
        "     'miny': 7455000,\n",
        "     'maxx': 584300,\n",
        "     'maxy': 7483000,\n",
        "     'base': -4800,\n",
        "     'top': 1200}"
      ]
    },
    {
      "cell_type": "code",
      "execution_count": null,
      "metadata": {
        "id": "qjOdEyMUi-kg"
      },
      "outputs": [],
      "source": [
        "import os\n",
        "import hjson\n",
        "from map2loop.m2l_enums import VerboseLevel\n",
        "from map2loop.project import Project\n",
        "\n",
        "from datetime import datetime\n",
        "nowtime=datetime.now().isoformat(timespec='minutes')   \n",
        "out_dir=nowtime.replace(\":\",\"-\").replace(\"T\",\"-\")\n",
        "\n",
        "\n",
        "proj = Project( \n",
        "                 loopdata_state = \"WA\",\n",
        "            project_path=out_dir,\n",
        "    project_crs='EPSG:28350',\n",
        "    verbose_level=VerboseLevel.NONE,\n",
        "    working_projection='EPSG:28350',\n",
        "                )\n",
        "\n",
        "proj.update_config(\n",
        "                    out_dir=out_dir,\n",
        "                    bbox_3d=bbox_3d,\n",
        "                    project_crs='EPSG:28350',\n",
        "                    # overwrite='true',\n",
        "                    # run_flags={'fault_dip':-999},\n",
        "                    # quiet='None',\n",
        "    \n",
        "#                     loopFilename='test.loop3d'\n",
        "                  )\n"
      ]
    },
    {
      "cell_type": "code",
      "execution_count": null,
      "metadata": {
        "id": "__W5n8zIjnPO"
      },
      "outputs": [],
      "source": [
        "proj.run()"
      ]
    },
    {
      "cell_type": "code",
      "execution_count": null,
      "metadata": {
        "id": "Y0yLEAuO0CYm"
      },
      "outputs": [],
      "source": [
        "minx,miny,maxx,maxy = proj.config.bbox\n",
        "model_base = proj.config.bbox_3d['base']\n",
        "model_top = proj.config.bbox_3d['top']"
      ]
    },
    {
      "cell_type": "code",
      "execution_count": null,
      "metadata": {
        "id": "1MexTn5y0US3"
      },
      "outputs": [],
      "source": [
        "f=open(proj.config.tmp_path+'/bbox.csv','w')\n",
        "f.write('minx,miny,maxx,maxy,lower,upper\\n')\n",
        "ostr='{},{},{},{},{},{}\\n'.format(minx,miny,maxx,maxy,model_base,model_top)\n",
        "f.write(ostr)\n",
        "f.close()"
      ]
    },
    {
      "cell_type": "code",
      "execution_count": null,
      "metadata": {
        "id": "2VEWddsH0V7_"
      },
      "outputs": [],
      "source": [
        "from LoopStructural import GeologicalModel\n",
        "fault_params = {'interpolatortype':'FDI',\n",
        "                'nelements':1e4,\n",
        "#                'step':10,\n",
        "#                'fault_buffer':0.2,\n",
        "#                 'force_mesh_geometry':True,\n",
        "#                 'solver':'pyamg',\n",
        "#                 overprints:overprints,\n",
        "#                 'cpw':1,\n",
        "#                 'gpw':5,\n",
        "               }\n",
        "foliation_params = {'interpolatortype':'FDI' , # 'interpolatortype':'PLI',\n",
        "                    'nelements':5e4,  # how many tetras/voxels\n",
        "                    'buffer':2.,  # how much to extend nterpolation around box\n",
        "#                     'solver':'pyamg',\n",
        "#                     'damp':True\n",
        "                    # 'npw':0,\n",
        "                    # 'regularisation':0.5\n",
        "                   }\n",
        "\n",
        "\n",
        "model, m2l_data = GeologicalModel.from_map2loop_directory(proj.config.project_path,\n",
        "                                                              evaluate=False,\n",
        "                                                          fault_params=fault_params,\n",
        "                                                          rescale=False,\n",
        "#                                                           vectorscale=1,\n",
        "                                                          foliation_params=foliation_params)"
      ]
    },
    {
      "cell_type": "code",
      "execution_count": null,
      "metadata": {
        "id": "jqrx5vDj0Zdg"
      },
      "outputs": [],
      "source": [
        "model.update()"
      ]
    },
    {
      "cell_type": "code",
      "execution_count": null,
      "metadata": {
        "id": "yV32JvND4a5o"
      },
      "outputs": [],
      "source": [
        "from LoopStructural.visualisation import LavaVuModelViewer"
      ]
    },
    {
      "cell_type": "code",
      "execution_count": null,
      "metadata": {
        "id": "iS1ZivfA4kkk"
      },
      "outputs": [],
      "source": [
        "from google.colab import output\n",
        "output.enable_custom_widget_manager()\n",
        "\n",
        "view = LavaVuModelViewer(model)\n",
        "view.add_model_surfaces()\n",
        "view.interactive()"
      ]
    },
    {
      "cell_type": "code",
      "execution_count": null,
      "metadata": {
        "id": "aaCh1P4b4oze"
      },
      "outputs": [],
      "source": [
        "view.display()"
      ]
    }
  ],
  "metadata": {
    "colab": {
      "name": "Untitled5.ipynb",
      "provenance": [],
      "include_colab_link": true
    },
    "kernelspec": {
      "display_name": "Python 3",
      "name": "python3"
    },
    "language_info": {
      "name": "python"
    }
  },
  "nbformat": 4,
  "nbformat_minor": 0
}