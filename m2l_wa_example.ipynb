{
  "nbformat": 4,
  "nbformat_minor": 0,
  "metadata": {
    "colab": {
      "name": "Untitled5.ipynb",
      "provenance": [],
      "include_colab_link": true
    },
    "kernelspec": {
      "name": "python3",
      "display_name": "Python 3"
    },
    "language_info": {
      "name": "python"
    }
  },
  "cells": [
    {
      "cell_type": "markdown",
      "metadata": {
        "id": "view-in-github",
        "colab_type": "text"
      },
      "source": [
        "<a href=\"https://colab.research.google.com/github/Loop3D/2022_iamg_workshop/blob/main/m2l_wa_example.ipynb\" target=\"_parent\"><img src=\"https://colab.research.google.com/assets/colab-badge.svg\" alt=\"Open In Colab\"/></a>"
      ]
    },
    {
      "cell_type": "markdown",
      "source": [
        "## Installing dependencies\n",
        "This workshop will use three libraries from the Loop project\n",
        "1. LoopStructural - https://github.com/Loop3D/LoopStructural\n",
        "2. map2loop - https://github.com/Loop3D/map2loop-2\n",
        "3. tomofast-x - https://github.com/TOMOFAST/Tomofast-x\n",
        "\n",
        "The following code blocks will install the required dependencies for the Loop libraries into this colab environment. Alternatively, the workshop can be run using the docker image."
      ],
      "metadata": {
        "id": "Zl_mH-3vfjV6"
      }
    },
    {
      "cell_type": "code",
      "source": [
        "!git clone https://github.com/TOMOFAST/Tomofast-x.git"
      ],
      "metadata": {
        "id": "HWFIyEq0gXxk"
      },
      "execution_count": null,
      "outputs": []
    },
    {
      "cell_type": "code",
      "source": [
        "%cd Tomofast-x\n",
        "!make"
      ],
      "metadata": {
        "id": "lArldmnGghi1"
      },
      "execution_count": null,
      "outputs": []
    },
    {
      "cell_type": "code",
      "source": [
        "%cd tomofast-X\n",
        "!./tomofastx -j ./parfiles/Parfile_mansf_slice.txt"
      ],
      "metadata": {
        "id": "Oa4bqGqggmJd"
      },
      "execution_count": null,
      "outputs": []
    },
    {
      "cell_type": "code",
      "source": [
        "%cd .."
      ],
      "metadata": {
        "id": "tDVx0dFg5EpB"
      },
      "execution_count": null,
      "outputs": []
    },
    {
      "cell_type": "markdown",
      "source": [
        "## map2loop + LoopStructural"
      ],
      "metadata": {
        "id": "zpEojO5xi2rV"
      }
    },
    {
      "cell_type": "code",
      "source": [
        "!pip install rasterio\n",
        "!pip install git+https://github.com/geopandas/geopandas.git@v0.10.2#!pip install .\n",
        "!pip install hjson\n",
        "!pip install owslib\n",
        "!pip install git+https://github.com/Loop3D/map2model_cpp.git\n",
        "!pip install git+https://github.com/Loop3D/LoopProjectFile.git\n",
        "!pip install pygeos\n",
        "!pip install mplstereonet\n",
        "!pip install lavavu-osmesa\n",
        "!pip install git+https://github.com/Loop3d/LoopStructural\n",
        "!pip install git+https://github.com/Loop3d/map2loop-2.git"
      ],
      "metadata": {
        "id": "NLZHTk7vmKVj"
      },
      "execution_count": null,
      "outputs": []
    },
    {
      "cell_type": "code",
      "source": [
        "bbox_3d = {'minx': 509727.48772433,\n",
        "     'miny': 7491991.14850445,\n",
        "     'maxx': 522116.39294858,\n",
        "     'maxy': 7500358.30361626,\n",
        "     'base': -4800,\n",
        "     'top': 1200}"
      ],
      "metadata": {
        "id": "RKOuwNyFjC1Y"
      },
      "execution_count": null,
      "outputs": []
    },
    {
      "cell_type": "code",
      "source": [
        "import os\n",
        "import hjson\n",
        "from map2loop.m2l_enums import VerboseLevel\n",
        "from map2loop.project import Project\n",
        "proj = Project( \n",
        "                 loopdata_state = \"WA\",\n",
        "            project_path='./newnew',\n",
        "    project_crs='EPSG:28350',\n",
        "    verbose_level=VerboseLevel.NONE,\n",
        "    working_projection='EPSG:28350',\n",
        "                )\n",
        "\n",
        "proj.update_config(\n",
        "                    out_dir='./newnew',\n",
        "                    bbox_3d=bbox_3d,\n",
        "                    project_crs='EPSG:28350',\n",
        "                    # overwrite='true',\n",
        "                    # run_flags={'fault_dip':-999},\n",
        "                    # quiet='None',\n",
        "    \n",
        "#                     loopFilename='test.loop3d'\n",
        "                  )\n"
      ],
      "metadata": {
        "id": "qjOdEyMUi-kg"
      },
      "execution_count": null,
      "outputs": []
    },
    {
      "cell_type": "code",
      "source": [
        "proj.run()"
      ],
      "metadata": {
        "id": "__W5n8zIjnPO"
      },
      "execution_count": null,
      "outputs": []
    },
    {
      "cell_type": "code",
      "source": [
        ""
      ],
      "metadata": {
        "id": "Kish90lguMRC"
      },
      "execution_count": null,
      "outputs": []
    },
    {
      "cell_type": "code",
      "source": [
        "minx,miny,maxx,maxy = proj.config.bbox\n",
        "model_base = proj.config.bbox_3d['base']\n",
        "model_top = proj.config.bbox_3d['top']"
      ],
      "metadata": {
        "id": "Y0yLEAuO0CYm"
      },
      "execution_count": null,
      "outputs": []
    },
    {
      "cell_type": "code",
      "source": [
        "f=open(proj.config.tmp_path+'/bbox.csv','w')\n",
        "f.write('minx,miny,maxx,maxy,lower,upper\\n')\n",
        "ostr='{},{},{},{},{},{}\\n'.format(minx,miny,maxx,maxy,model_base,model_top)\n",
        "f.write(ostr)\n",
        "f.close()"
      ],
      "metadata": {
        "id": "1MexTn5y0US3"
      },
      "execution_count": null,
      "outputs": []
    },
    {
      "cell_type": "code",
      "source": [
        "from LoopStructural import GeologicalModel\n",
        "fault_params = {'interpolatortype':'FDI',\n",
        "                'nelements':1e4,\n",
        "                'step':10,\n",
        "                'fault_buffer':0.2,\n",
        "#                 'force_mesh_geometry':True,\n",
        "#                 'solver':'pyamg',\n",
        "#                 overprints:overprints,\n",
        "#                 'cpw':1,\n",
        "#                 'gpw':5,\n",
        "               }\n",
        "foliation_params = {'interpolatortype':'FDI' , # 'interpolatortype':'PLI',\n",
        "                    'nelements':5e4,  # how many tetras/voxels\n",
        "                    'buffer':2.,  # how much to extend nterpolation around box\n",
        "#                     'solver':'pyamg',\n",
        "#                     'damp':True\n",
        "                    # 'npw':0,\n",
        "                    # 'regularisation':0.5\n",
        "                   }\n",
        "\n",
        "\n",
        "model, m2l_data = GeologicalModel.from_map2loop_directory(proj.config.project_path,\n",
        "                                                              evaluate=False,\n",
        "                                                          fault_params=fault_params,\n",
        "                                                          rescale=False,\n",
        "#                                                           vectorscale=1,\n",
        "                                                          foliation_params=foliation_params)"
      ],
      "metadata": {
        "id": "2VEWddsH0V7_"
      },
      "execution_count": null,
      "outputs": []
    },
    {
      "cell_type": "code",
      "source": [
        "model.update()"
      ],
      "metadata": {
        "id": "jqrx5vDj0Zdg"
      },
      "execution_count": null,
      "outputs": []
    },
    {
      "cell_type": "code",
      "source": [
        "from LoopStructural.visualisation import LavaVuModelViewer"
      ],
      "metadata": {
        "id": "yV32JvND4a5o"
      },
      "execution_count": null,
      "outputs": []
    },
    {
      "cell_type": "code",
      "source": [
        "view = LavaVuModelViewer(model)\n",
        "view.add_model_surfaces()\n",
        "view.interactive()"
      ],
      "metadata": {
        "id": "iS1ZivfA4kkk"
      },
      "execution_count": null,
      "outputs": []
    },
    {
      "cell_type": "code",
      "source": [
        "view.display()"
      ],
      "metadata": {
        "id": "aaCh1P4b4oze"
      },
      "execution_count": null,
      "outputs": []
    },
    {
      "cell_type": "code",
      "source": [
        ""
      ],
      "metadata": {
        "id": "knI1n3_44y7B"
      },
      "execution_count": null,
      "outputs": []
    }
  ]
}