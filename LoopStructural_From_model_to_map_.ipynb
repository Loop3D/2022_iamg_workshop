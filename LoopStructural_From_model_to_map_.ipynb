{
  "nbformat": 4,
  "nbformat_minor": 0,
  "metadata": {
    "colab": {
      "name": "LoopStructural  - From model to map .ipynb",
      "provenance": [],
      "authorship_tag": "ABX9TyOgyaVg6lblFM9UZuNize90",
      "include_colab_link": true
    },
    "kernelspec": {
      "name": "python3",
      "display_name": "Python 3"
    },
    "language_info": {
      "name": "python"
    }
  },
  "cells": [
    {
      "cell_type": "markdown",
      "metadata": {
        "id": "view-in-github",
        "colab_type": "text"
      },
      "source": [
        "<a href=\"https://colab.research.google.com/github/Loop3D/2022_iamg_workshop/blob/main/LoopStructural_From_model_to_map_.ipynb\" target=\"_parent\"><img src=\"https://colab.research.google.com/assets/colab-badge.svg\" alt=\"Open In Colab\"/></a>"
      ]
    },
    {
      "cell_type": "code",
      "source": [
        "!pip install git+https://github.com/Loop3d/LoopStructural \n",
        "!pip install lavavu-osmesa"
      ],
      "metadata": {
        "id": "6PrLWfecr4rM"
      },
      "execution_count": null,
      "outputs": []
    },
    {
      "cell_type": "code",
      "execution_count": null,
      "metadata": {
        "id": "Wpn8G9ZELZRK",
        "colab": {
          "base_uri": "https://localhost:8080/"
        },
        "outputId": "0ec35f04-025c-4fe2-e6ef-2bb064f6cd14"
      },
      "outputs": [
        {
          "output_type": "stream",
          "name": "stderr",
          "text": [
            "WARNING: 2022-08-29 10:11:32,056: __init__.py:19 -- Cannot use LoopProjectfileProcessor: Loop project file cannot be imported, try installing LoopProjectFile\n",
            "WARNING: 2022-08-29 10:11:32,080: __init__.py:64 -- Can't import surfepy - to install \"pip install surfe\"\n",
            "WARNING: 2022-08-29 10:11:32,084: __init__.py:66 -- Using experimental interpolators: P1Interpolator and P2Interpolator\n",
            "WARNING: 2022-08-29 10:11:34,439: __init__.py:30 -- Vtk export disabled: pip install meshio\n"
          ]
        }
      ],
      "source": [
        "from LoopStructural.modelling import ProcessInputData, Map2LoopProcessor\n",
        "from LoopStructural import GeologicalModel\n",
        "from LoopStructural.visualisation import LavaVuModelViewer\n",
        "from LoopStructural.datasets import load_geological_map_data\n",
        "\n",
        "import pandas as pd\n",
        "import numpy as np\n",
        "import matplotlib.pyplot as plt\n"
      ]
    },
    {
      "cell_type": "code",
      "source": [
        "(\n",
        "    contacts,\n",
        "    stratigraphic_orientations,\n",
        "    stratigraphic_thickness,\n",
        "    stratigraphic_order,\n",
        "    bbox,\n",
        "    fault_locations,\n",
        "    fault_orientations,\n",
        "    fault_properties,\n",
        "    fault_edges,\n",
        ") = load_geological_map_data()\n",
        "\n",
        "thicknesses = dict(\n",
        "    zip(\n",
        "        list(stratigraphic_thickness[\"name\"]),\n",
        "        list(stratigraphic_thickness[\"thickness\"]),\n",
        "    )\n",
        ")\n"
      ],
      "metadata": {
        "id": "HQs5D7f9L5lc"
      },
      "execution_count": null,
      "outputs": []
    },
    {
      "cell_type": "code",
      "source": [],
      "metadata": {
        "id": "Da6mJuh2OojW"
      },
      "execution_count": null,
      "outputs": []
    }
  ]
}