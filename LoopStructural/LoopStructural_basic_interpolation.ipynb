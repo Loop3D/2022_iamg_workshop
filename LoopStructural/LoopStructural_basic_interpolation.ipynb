{
  "cells": [
    {
      "cell_type": "markdown",
      "metadata": {
        "colab_type": "text",
        "id": "view-in-github"
      },
      "source": [
        "<a href=\"https://colab.research.google.com/github/Loop3D/2022_iamg_workshop/blob/main/LoopStructural/LoopStructural_basic_interpolation.ipynb\" target=\"_parent\"><img src=\"https://colab.research.google.com/assets/colab-badge.svg\" alt=\"Open In Colab\"/></a>"
      ]
    },
    {
      "cell_type": "code",
      "execution_count": null,
      "metadata": {
        "id": "k8S2cJtADoMw"
      },
      "outputs": [],
      "source": [
        "%matplotlib inline"
      ]
    },
    {
      "cell_type": "code",
      "execution_count": null,
      "metadata": {
        "id": "4dc8iOhKG-rn"
      },
      "outputs": [],
      "source": [
        "!pip install git+https://github.com/Loop3D/LoopStructural@v1.5.1\n",
        "!pip install numpy pandas lavavu-osmesa surfepy"
      ]
    },
    {
      "cell_type": "code",
      "execution_count": null,
      "metadata": {
        "id": "Y0kDn7V7DoND"
      },
      "outputs": [],
      "source": [
        "import numpy as np\n",
        "\n",
        "extent = np.zeros((3,2))\n",
        "extent[:,1] = 10\n",
        "\n",
        "x = np.linspace(0,10,10)\n",
        "y = np.linspace(0,10,10)\n",
        "\n",
        "xx,yy = np.meshgrid(x,y)\n",
        "zz = np.zeros_like(xx)\n",
        "zz[:] = 1 + np.random.random(zz.shape)\n",
        "val = np.zeros_like(xx)\n",
        "val[:] = 0\n",
        "surface_1 = np.array([xx.flatten(),yy.flatten(),zz.flatten(),val.flatten()]).T\n",
        "zz[:] = 5 + np.random.random(zz.shape)\n",
        "val[:] = 1\n",
        "surface_2 = np.array([xx.flatten(),yy.flatten(),zz.flatten(),val.flatten()]).T"
      ]
    }
  ],
  "metadata": {
    "colab": {
      "collapsed_sections": [],
      "include_colab_link": true,
      "name": "LoopStructural basic interpolation.ipynb",
      "provenance": []
    },
    "kernelspec": {
      "display_name": "Python 3",
      "language": "python",
      "name": "python3"
    },
    "language_info": {
      "codemirror_mode": {
        "name": "ipython",
        "version": 3
      },
      "file_extension": ".py",
      "mimetype": "text/x-python",
      "name": "python",
      "nbconvert_exporter": "python",
      "pygments_lexer": "ipython3",
      "version": "3.8.13"
    }
  },
  "nbformat": 4,
  "nbformat_minor": 0
}
