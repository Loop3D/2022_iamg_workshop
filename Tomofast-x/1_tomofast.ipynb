{
  "cells": [
    {
      "cell_type": "markdown",
      "metadata": {
        "colab_type": "text",
        "id": "view-in-github"
      },
      "source": [
        "<a href=\"https://colab.research.google.com/github/Loop3D/2022_iamg_workshop/blob/main/Tomofast-x/1_tomofast.ipynb\" target=\"_parent\"><img src=\"https://colab.research.google.com/assets/colab-badge.svg\" alt=\"Open In Colab\"/></a>"
      ]
    },
    {
      "cell_type": "markdown",
      "metadata": {
        "id": "Zl_mH-3vfjV6"
      },
      "source": [
        "# 1 Tomofast-x example\n",
        "### Installing dependencies\n",
        "This notebook will use one library from the Loop project\n",
        "\n",
        "1. tomofast-x -   \n",
        " https://github.com/TOMOFAST/Tomofast-x   \n",
        " https://gmd.copernicus.org/articles/14/6681/2021/   \n",
        "\n",
        "The following code blocks will install the required dependencies for the Loop libraries into this colab environment. Alternatively, the workshop can be run using the docker image."
      ]
    },
    {
      "cell_type": "code",
      "execution_count": null,
      "metadata": {
        "id": "HWFIyEq0gXxk"
      },
      "outputs": [],
      "source": [
        "!git clone https://github.com/TOMOFAST/Tomofast-x.git"
      ]
    },
    {
      "cell_type": "code",
      "execution_count": null,
      "metadata": {
        "id": "FI_earapN-Ab"
      },
      "outputs": [],
      "source": [
        "!git clone https://github.com/TOMOFAST/Tomofast-tools.git"
      ]
    },
    {
      "cell_type": "code",
      "execution_count": null,
      "metadata": {
        "id": "lArldmnGghi1"
      },
      "outputs": [],
      "source": [
        "%cd Tomofast-x\n",
        "!make"
      ]
    },
    {
      "cell_type": "code",
      "execution_count": null,
      "metadata": {
        "id": "Oa4bqGqggmJd"
      },
      "outputs": [],
      "source": [
        "!mpirun --allow-run-as-root -np 1 ./tomofastx -j ./parfiles/Parfile_mansf_slice.txt"
      ]
    },
    {
      "cell_type": "code",
      "execution_count": null,
      "metadata": {
        "id": "tDVx0dFg5EpB"
      },
      "outputs": [],
      "source": [
        "%cd ../Tomofast-tools\n",
        "import tomofast_vis\n",
        "%cd .."
      ]
    },
    {
      "cell_type": "code",
      "execution_count": null,
      "metadata": {
        "id": "KHRUQZehOu1N"
      },
      "outputs": [],
      "source": [
        "tomofast_vis.main()"
      ]
    }
  ],
  "metadata": {
    "colab": {
      "include_colab_link": true,
      "name": "Untitled5.ipynb",
      "provenance": []
    },
    "kernelspec": {
      "display_name": "Python 3",
      "name": "python3"
    },
    "language_info": {
      "name": "python"
    }
  },
  "nbformat": 4,
  "nbformat_minor": 0
}
