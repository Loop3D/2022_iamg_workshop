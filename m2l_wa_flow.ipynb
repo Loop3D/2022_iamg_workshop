{
  "nbformat": 4,
  "nbformat_minor": 0,
  "metadata": {
    "colab": {
      "name": "Untitled5.ipynb",
      "provenance": [],
      "include_colab_link": true
    },
    "kernelspec": {
      "name": "python3",
      "display_name": "Python 3"
    },
    "language_info": {
      "name": "python"
    }
  },
  "cells": [
    {
      "cell_type": "markdown",
      "metadata": {
        "id": "view-in-github",
        "colab_type": "text"
      },
      "source": [
        "<a href=\"https://colab.research.google.com/github/Loop3D/2022_iamg_workshop/blob/main/m2l_wa_flow.ipynb\" target=\"_parent\"><img src=\"https://colab.research.google.com/assets/colab-badge.svg\" alt=\"Open In Colab\"/></a>"
      ]
    },
    {
      "cell_type": "markdown",
      "source": [
        "## Installing dependencies\n",
        "This workshop will use three libraries from the Loop project\n",
        "1. LoopStructural - https://github.com/Loop3D/LoopStructural\n",
        "2. map2loop - https://github.com/Loop3D/map2loop-2\n",
        "3. LoopFlow - https://github.com/Loop3D/LoopFlow\n",
        "\n",
        "The following code blocks will install the required dependencies for the Loop libraries into this colab environment. Alternatively, the workshop can be run using the docker image."
      ],
      "metadata": {
        "id": "Zl_mH-3vfjV6"
      }
    },
    {
      "cell_type": "markdown",
      "source": [
        "## map2loop + LoopStructural"
      ],
      "metadata": {
        "id": "zpEojO5xi2rV"
      }
    },
    {
      "cell_type": "code",
      "source": [
        "!pip install rasterio\n",
        "!pip install git+https://github.com/geopandas/geopandas.git@v0.10.2\n",
        "!pip install hjson\n",
        "!pip install owslib\n",
        "!pip install git+https://github.com/Loop3D/map2model_cpp.git\n",
        "!pip install git+https://github.com/Loop3D/LoopProjectFile.git\n",
        "!pip install pygeos\n",
        "!pip install mplstereonet\n",
        "!pip install lavavu-osmesa\n",
        "!pip install LoopStructural\n",
        "!pip install git+https://github.com/Loop3D/map2loop-2.git\n",
        "!pip install beartype\n",
        "!pip install ipyvolume\n",
        "!pip install git+https://github.com/Loop3D/LoopFlow.git"
      ],
      "metadata": {
        "id": "NLZHTk7vmKVj"
      },
      "execution_count": null,
      "outputs": []
    },
    {
      "cell_type": "code",
      "source": [
        "from LoopFlow import __version__\n",
        "__version__"
      ],
      "metadata": {
        "id": "gNS-0m_xHiLT"
      },
      "execution_count": null,
      "outputs": []
    },
    {
      "cell_type": "code",
      "source": [
        "bbox_3d = {\n",
        "     'minx': 509727.48772433,\n",
        "     'miny': 7491991.14850445,\n",
        "     'maxx': 522116.39294858,\n",
        "     'maxy': 7500358.30361626,\n",
        "     'base': -4800,\n",
        "     'top': 1200}"
      ],
      "metadata": {
        "id": "RKOuwNyFjC1Y"
      },
      "execution_count": null,
      "outputs": []
    },
    {
      "cell_type": "code",
      "source": [
        "import os\n",
        "import hjson\n",
        "from map2loop.m2l_enums import VerboseLevel\n",
        "from map2loop.project import Project\n",
        "from math import sqrt\n",
        "\n",
        "out_dir='./new_model'\n",
        "\n",
        "\n",
        "proj = Project( \n",
        "                 loopdata_state = \"WA\",\n",
        "            project_path=out_dir,\n",
        "    project_crs='EPSG:28350',\n",
        "    verbose_level=VerboseLevel.NONE,\n",
        "    working_projection='EPSG:28350',\n",
        "                )\n",
        "\n",
        "proj.update_config(\n",
        "                    out_dir=out_dir,\n",
        "                    bbox_3d=bbox_3d,\n",
        "                    project_crs='EPSG:28350',\n",
        "                    # overwrite='true',\n",
        "                    # run_flags={'fault_dip':-999},\n",
        "                    # quiet='None',\n",
        "    \n",
        "#                     loopFilename='test.loop3d'\n",
        "                  )\n"
      ],
      "metadata": {
        "id": "qjOdEyMUi-kg"
      },
      "execution_count": null,
      "outputs": []
    },
    {
      "cell_type": "code",
      "source": [
        "proj.run()"
      ],
      "metadata": {
        "id": "__W5n8zIjnPO"
      },
      "execution_count": null,
      "outputs": []
    },
    {
      "cell_type": "code",
      "source": [
        "minx,miny,maxx,maxy = proj.config.bbox\n",
        "model_base = proj.config.bbox_3d['base']\n",
        "model_top = proj.config.bbox_3d['top']"
      ],
      "metadata": {
        "id": "Y0yLEAuO0CYm"
      },
      "execution_count": null,
      "outputs": []
    },
    {
      "cell_type": "code",
      "source": [
        "f=open(proj.config.tmp_path+'/bbox.csv','w')\n",
        "f.write('minx,miny,maxx,maxy,lower,upper\\n')\n",
        "ostr='{},{},{},{},{},{}\\n'.format(minx,miny,maxx,maxy,model_base,model_top)\n",
        "f.write(ostr)\n",
        "f.close()"
      ],
      "metadata": {
        "id": "1MexTn5y0US3"
      },
      "execution_count": null,
      "outputs": []
    },
    {
      "cell_type": "code",
      "source": [
        "from LoopStructural import GeologicalModel\n",
        "fault_params = {'interpolatortype':'FDI',\n",
        "                'nelements':1e4,\n",
        "                'step':10,\n",
        "                'fault_buffer':0.2,\n",
        "#                 'force_mesh_geometry':True,\n",
        "#                 'solver':'pyamg',\n",
        "#                 overprints:overprints,\n",
        "#                 'cpw':1,\n",
        "#                 'gpw':5,\n",
        "               }\n",
        "foliation_params = {'interpolatortype':'FDI' , # 'interpolatortype':'PLI',\n",
        "                    'nelements':5e4,  # how many tetras/voxels\n",
        "                    'buffer':2.,  # how much to extend nterpolation around box\n",
        "#                     'solver':'pyamg',\n",
        "#                     'damp':True\n",
        "                    # 'npw':0,\n",
        "                    # 'regularisation':0.5\n",
        "                   }\n",
        "\n",
        "\n",
        "model, m2l_data = GeologicalModel.from_map2loop_directory(proj.config.project_path,\n",
        "                                                              evaluate=False,\n",
        "                                                          fault_params=fault_params,\n",
        "                                                          rescale=False,\n",
        "#                                                           vectorscale=1,\n",
        "                                                          foliation_params=foliation_params)"
      ],
      "metadata": {
        "id": "2VEWddsH0V7_"
      },
      "execution_count": null,
      "outputs": []
    },
    {
      "cell_type": "code",
      "source": [
        "model.update()"
      ],
      "metadata": {
        "id": "jqrx5vDj0Zdg"
      },
      "execution_count": null,
      "outputs": []
    },
    {
      "cell_type": "code",
      "source": [
        "from LoopStructural.visualisation import LavaVuModelViewer"
      ],
      "metadata": {
        "id": "yV32JvND4a5o"
      },
      "execution_count": null,
      "outputs": []
    },
    {
      "cell_type": "code",
      "source": [
        "view = LavaVuModelViewer(model)\n",
        "view.add_model_surfaces()\n",
        "view.interactive()"
      ],
      "metadata": {
        "id": "iS1ZivfA4kkk"
      },
      "execution_count": null,
      "outputs": []
    },
    {
      "cell_type": "code",
      "source": [
        "view.display()"
      ],
      "metadata": {
        "id": "aaCh1P4b4oze"
      },
      "execution_count": null,
      "outputs": []
    },
    {
      "cell_type": "markdown",
      "source": [
        "##Code to calculate voxel-level spatial relationship graph and flow proxies"
      ],
      "metadata": {
        "id": "lhiSK4lF9Ce_"
      }
    },
    {
      "cell_type": "code",
      "source": [
        "from LoopFlow import import_triangulation as it\n",
        "from LoopFlow import calculate_flow as cf\n",
        "\n",
        "\n",
        "\n",
        "bbox=it.create_bbox(minx,miny,maxx,maxy,model_base,model_top)\n",
        "destination=out_dir"
      ],
      "metadata": {
        "id": "nOZ4MLkcwbdC"
      },
      "execution_count": null,
      "outputs": []
    },
    {
      "cell_type": "code",
      "source": [
        "voxel_size=250\n",
        "\n",
        "\n",
        "Graw,df_nodes_raw,df_edges_raw,lengths=cf.graph_from_model(model,voxel_size,bbox,destination)\n"
      ],
      "metadata": {
        "id": "MnIUeYbQwcVj"
      },
      "execution_count": null,
      "outputs": []
    },
    {
      "cell_type": "markdown",
      "source": [
        "##Assign weights according to feature (fault, strat contact, interior of unit etc.) and specific fast stratigraphic units"
      ],
      "metadata": {
        "id": "9il1ZL-r9TlO"
      }
    },
    {
      "cell_type": "code",
      "source": [
        "faults_only=False\n",
        "                    \n",
        "scenario={     #free-form scenario   \n",
        "        'fault_node':1000.0,\n",
        "        'geological_formation_slow':1000.0,\n",
        "        'geological_formation_fast':1.0,\n",
        "        'interformation_node':1000.0,\n",
        "\n",
        "        'fault_formation':1000.0,\n",
        "        'same_fault':1000.0,\n",
        "        'fault_fault':1000.0,\n",
        "        'interform_fault':1000.0,\n",
        "        'interform_formation':100.0,\n",
        "        'interform_interform':100.0,\n",
        "        'same_interform':100.0,\n",
        "\n",
        "        'fast_formation_code':['0']\n",
        "        }\n",
        "scenario='fast_faults' #pre-defined scenario\n",
        "                        # fast_faults    \n",
        "                        # fast_strat_contacts \n",
        "                        # fast_both  \n",
        "                        # fault_barriers_not_paths  \n",
        "                        # fault_barriers_but_paths_and_fast_strat\n",
        "                        #homogeneous\n",
        "\n",
        "source='point' # 'west','north', 'south', top', 'base', 'deep_line', 'point'\n",
        "target='no' # 'west','north', 'south', top', 'base', 'deep_line', 'point'\n",
        "fast_formation_code=['3']\n",
        "\n",
        "ptx=(bbox.loc[0].minx+bbox.loc[0].maxx)/2\n",
        "pty=(bbox.loc[0].miny+bbox.loc[0].maxy)/2\n",
        "ptz=bbox.loc[0].lower\n",
        "\n",
        "f=open(destination+'/parameters.txt','w')\n",
        "f.write('faults_only = {}\\nscenario = {}\\nsource = {}\\nfast_litho = {}\\npoint = {},{},{}\\n'.format(faults_only,str(scenario),source,fast_formation_code,ptx,pty,ptz))\n",
        "f.close()\n",
        "\n",
        "range=voxel_size/2\n",
        "length_scale_max=sqrt(lengths[0]**2+lengths[1]**2+lengths[2]**2)\n",
        "G,scenario=cf.assign_weights(Graw,scenario,source,target,fast_formation_code,faults_only,bbox,ptx,pty,ptz,range,length_scale_max)\n",
        "\n",
        "voxet_df,distance,path=cf.calculate_dist(G,df_nodes_raw,voxel_size,bbox,scenario,destination)\n",
        "cf.calculate_paths(path,df_nodes_raw,scenario,destination)"
      ],
      "metadata": {
        "id": "AYDnzXg8wcsZ"
      },
      "execution_count": null,
      "outputs": []
    },
    {
      "cell_type": "code",
      "source": [
        "%matplotlib inline\n",
        "\n",
        "import numpy as np\n",
        "import pandas as pd\n",
        "import matplotlib.pyplot as plt\n",
        "\n",
        "\n",
        "import ipyvolume as ipv\n",
        "LoadPath = out_dir\n",
        "\n",
        "\n"
      ],
      "metadata": {
        "id": "nNqWuti4wdCK"
      },
      "execution_count": null,
      "outputs": []
    },
    {
      "cell_type": "code",
      "source": [
        "df_path = pd.read_csv(LoadPath+'/'+scenario+\"_path_count.csv\")\n",
        "df_dist = pd.read_csv(LoadPath+'/'+scenario+\"_dist_voxet.csv\")\n",
        "\n",
        "\n",
        "df_dist['color']=256*np.sqrt(df_dist['dist'])/np.sqrt(df_dist['dist'].max())\n",
        "df_dist['color']=df_dist['color'].astype('int')\n"
      ],
      "metadata": {
        "id": "1oymi_Ftwdeh"
      },
      "execution_count": null,
      "outputs": []
    },
    {
      "cell_type": "code",
      "source": [
        "x_lim = [df_path.X.min(), df_path.X.values.max()]\n",
        "y_lim = [df_path.Y.min(), df_path.Y.values.max()]\n",
        "z_lim = [df_path.Z.min(), df_path.Z.values.max()]\n",
        "xyz_lim = [np.min([x_lim, y_lim, z_lim]), np.max([x_lim, y_lim, z_lim])]\n",
        "\n",
        "\n",
        "x_ratio=1.0\n",
        "y_ratio=(y_lim[1]-y_lim[0])/(x_lim[1]-x_lim[0])\n",
        "z_ratio=(z_lim[1]-y_lim[0])/(z_lim[1]-x_lim[0])\n",
        "x_ratio,y_ratio,z_ratio\n",
        "\n",
        "x_ratio=1.0\n",
        "y_ratio=(bbox_3d['maxy']-bbox_3d['miny'])/(bbox_3d['maxx']-bbox_3d['minx'])\n",
        "y_ratio=(bbox_3d['top']-bbox_3d['base'])/(bbox_3d['maxx']-bbox_3d['minx'])\n",
        "x_ratio,y_ratio,z_ratio\n",
        "\n",
        "y_range=(bbox_3d['maxy']-bbox_3d['miny'])*y_ratio\n",
        "z_range=(bbox_3d['top']-bbox_3d['base'])*z_ratio/5"
      ],
      "metadata": {
        "id": "cAzuxNNjy0nq"
      },
      "execution_count": null,
      "outputs": []
    },
    {
      "cell_type": "markdown",
      "source": [
        "##Display distance from defined source location based on flow weights of specific geological elements"
      ],
      "metadata": {
        "id": "Fa0O1pAK6rev"
      }
    },
    {
      "cell_type": "code",
      "source": [
        "import matplotlib.cm\n",
        "from google.colab import output\n",
        "output.enable_custom_widget_manager()\n",
        "\n",
        "cmap = plt.get_cmap(\"gnuplot\")\n",
        "c = df_dist.color\n",
        "colors = cmap(c)\n",
        "\n",
        "\n",
        "size = 700\n",
        "fig = ipv.figure(width=size, height=size)\n",
        "#df_path_cut=df_path[df_path['count']>100]\n",
        "scatter = ipv.scatter(df_dist.X.values, df_dist.Y.values, df_dist.Z.values, \n",
        "                      color=colors, size=3, marker=\"box\" ) # ‘arrow’, ‘box’, ‘diamond’, ‘sphere’, ‘point_2d’,‘square_2d’, ‘triangle_2d’, \n",
        "\n",
        "ipv.xlim(x_lim[0], x_lim[1])\n",
        "ipv.ylim(y_lim[0]-y_range, y_lim[1]+y_range)\n",
        "ipv.zlim(z_lim[0]-z_range, z_lim[1]+z_range)\n",
        "ipv.show()"
      ],
      "metadata": {
        "id": "MW1VFZF13DDK"
      },
      "execution_count": null,
      "outputs": []
    },
    {
      "cell_type": "markdown",
      "source": [
        "##Display most used pathways from defined source location based on flow weights of specific  geological elements"
      ],
      "metadata": {
        "id": "WJX0H14q64j8"
      }
    },
    {
      "cell_type": "code",
      "source": [
        "import matplotlib.cm\n",
        "from google.colab import output\n",
        "output.enable_custom_widget_manager()\n",
        "\n",
        "path_cutoff=10\n",
        "df_path_cut=df_path[df_path['count']>path_cutoff].copy(deep=True)\n",
        "df_path_cut['color']=256*(np.log(df_path_cut['count']-path_cutoff))/(np.log(df_path_cut['count'].max()-path_cutoff))\n",
        "df_path_cut['color']=df_path_cut['color'].astype('int')\n",
        "\n",
        "\n",
        "cmap = plt.get_cmap(\"gnuplot\")\n",
        "c = df_path_cut.color\n",
        "colors = cmap(c)\n",
        "\n",
        "\n",
        "size = 700\n",
        "fig = ipv.figure(width=size, height=size)\n",
        "scatter = ipv.scatter(df_path_cut.X.values, df_path_cut.Y.values, df_path_cut.Z.values, \n",
        "                      color=colors, size=1, marker=\"box\") # ‘arrow’, ‘box’, ‘diamond’, ‘sphere’, ‘point_2d’,‘square_2d’, ‘triangle_2d’, \n",
        "\n",
        "ipv.xlim(x_lim[0], x_lim[1])\n",
        "ipv.ylim(y_lim[0]-y_range, y_lim[1]+y_range)\n",
        "ipv.zlim(z_lim[0]-z_range, z_lim[1]+z_range)\n",
        "\n",
        "ipv.show()\n"
      ],
      "metadata": {
        "id": "dz3PPKOwy8Ki"
      },
      "execution_count": null,
      "outputs": []
    }
  ]
}