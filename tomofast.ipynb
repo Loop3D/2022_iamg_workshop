{
  "nbformat": 4,
  "nbformat_minor": 0,
  "metadata": {
    "colab": {
      "name": "Untitled5.ipynb",
      "provenance": [],
      "include_colab_link": true
    },
    "kernelspec": {
      "name": "python3",
      "display_name": "Python 3"
    },
    "language_info": {
      "name": "python"
    }
  },
  "cells": [
    {
      "cell_type": "markdown",
      "metadata": {
        "id": "view-in-github",
        "colab_type": "text"
      },
      "source": [
        "<a href=\"https://colab.research.google.com/github/Loop3D/2022_iamg_workshop/blob/main/tomofast.ipynb\" target=\"_parent\"><img src=\"https://colab.research.google.com/assets/colab-badge.svg\" alt=\"Open In Colab\"/></a>"
      ]
    },
    {
      "cell_type": "markdown",
      "source": [
        "## Installing dependencies\n",
        "This workshop will use three libraries from the Loop project\n",
        "1. LoopStructural - https://github.com/Loop3D/LoopStructural\n",
        "2. map2loop - https://github.com/Loop3D/map2loop-2\n",
        "3. tomofast-x - https://github.com/TOMOFAST/Tomofast-x\n",
        "\n",
        "The following code blocks will install the required dependencies for the Loop libraries into this colab environment. Alternatively, the workshop can be run using the docker image."
      ],
      "metadata": {
        "id": "Zl_mH-3vfjV6"
      }
    },
    {
      "cell_type": "code",
      "source": [
        "!git clone https://github.com/TOMOFAST/Tomofast-x.git"
      ],
      "metadata": {
        "id": "HWFIyEq0gXxk"
      },
      "execution_count": null,
      "outputs": []
    },
    {
      "cell_type": "code",
      "source": [
        "%cd Tomofast-x\n",
        "!make"
      ],
      "metadata": {
        "id": "lArldmnGghi1"
      },
      "execution_count": null,
      "outputs": []
    },
    {
      "cell_type": "code",
      "source": [
        "%cd tomofast-X\n",
        "!./tomofastx -j ./parfiles/Parfile_mansf_slice.txt"
      ],
      "metadata": {
        "id": "Oa4bqGqggmJd"
      },
      "execution_count": null,
      "outputs": []
    },
    {
      "cell_type": "code",
      "source": [
        "%cd .."
      ],
      "metadata": {
        "id": "tDVx0dFg5EpB"
      },
      "execution_count": null,
      "outputs": []
    },
    {
      "cell_type": "code",
      "source": [
        "'''\n",
        "Drawing Tomofast-x model profiles and data.\n",
        "Author: Vitaliy Ogarko\n",
        "'''\n",
        "\n",
        "import numpy as np\n",
        "import matplotlib.pylab as pl\n",
        "import matplotlib as mpl\n",
        "\n",
        "from matplotlib.patches import Rectangle\n",
        "from matplotlib.collections import PatchCollection\n",
        "from matplotlib.colors import ListedColormap\n",
        "import matplotlib.colorbar as cbar\n",
        "\n",
        "def draw_model(grid, model, title):\n",
        "    '''\n",
        "    Draw the model slice.\n",
        "    Note: the input grid should be a 2D grid corresponding to the model slice.\n",
        "    '''\n",
        "    nelements = model.shape[0]\n",
        "\n",
        "    pl.rcParams[\"figure.figsize\"] = (12.8, 9.6) # Default size = (6.4, 4.8)\n",
        "\n",
        "    # Makes the same scale for x and y axis.\n",
        "    pl.axis('scaled')\n",
        "\n",
        "    x_min = np.min(grid[:, 0:2])\n",
        "    x_max = np.max(grid[:, 0:2])\n",
        "    y_min = np.min(grid[:, 2:4])\n",
        "    y_max = np.max(grid[:, 2:4])\n",
        "\n",
        "    print(\"Model dimensions:\", x_min, x_max, y_min, y_max)\n",
        "\n",
        "    # Define figure dimensions.\n",
        "    pl.xlim(x_min, x_max)\n",
        "    pl.ylim(y_min, y_max)\n",
        "\n",
        "    currentAxis = pl.gca()\n",
        "    currentAxis.set_title(title)\n",
        "\n",
        "    # Gradient palette.\n",
        "    cmap = pl.get_cmap('viridis')\n",
        "\n",
        "    patches = []\n",
        "    color_list = []\n",
        "\n",
        "    val_min = np.min(model)\n",
        "    val_max = np.max(model)\n",
        "\n",
        "    for i in range(nelements):\n",
        "        x1 = grid[i, 0]\n",
        "        x2 = grid[i, 1]\n",
        "        y1 = grid[i, 2]\n",
        "        y2 = grid[i, 3]\n",
        "\n",
        "        dx = x2 - x1\n",
        "        dy = y2 - y1\n",
        "\n",
        "        # Define the rectangle color.\n",
        "        val = model[i]\n",
        "        if (val_max != val_min):\n",
        "            val_norm = (val - val_min) / (val_max - val_min)\n",
        "        else:\n",
        "            val_norm = 0.\n",
        "        color = cmap(val_norm)\n",
        "\n",
        "        # Adding rectangle.\n",
        "        patches.append(Rectangle((x1, y1), dx, dy))\n",
        "        color_list.append(color)\n",
        "\n",
        "    # Define patches collection with colormap.\n",
        "    patches_cmap = ListedColormap(color_list)\n",
        "    patches_collection = PatchCollection(patches, cmap=patches_cmap)\n",
        "    patches_collection.set_array(np.arange(len(patches)))\n",
        "\n",
        "    # Add rectangle collection to the figure.\n",
        "    currentAxis.add_collection(patches_collection)\n",
        "\n",
        "    # Show the colorbar.\n",
        "    cax, _ = cbar.make_axes(currentAxis)\n",
        "    # Set the correct colorbar scale.\n",
        "    norm = mpl.colors.Normalize(vmin=val_min, vmax=val_max)\n",
        "    cb2 = cbar.ColorbarBase(cax, cmap=cmap, norm=norm)\n",
        "\n",
        "    pl.show()\n",
        "\n",
        "#=============================================================================\n",
        "def plot_section(model):\n",
        "    print('Started tomofast_vis.')\n",
        "\n",
        "    #----------------------------------------------------------------------------------\n",
        "    # Setting the file paths and constants.\n",
        "    #----------------------------------------------------------------------------------\n",
        "\n",
        "    # Model grid dimensions (modelGrid.size parameter in the Parfile).\n",
        "    nx = 2\n",
        "    ny = 128\n",
        "    nz = 32\n",
        "\n",
        "    # Path to input model grid (modelGrid.grav.file parameter in the Parfile).\n",
        "    filename_model_grid = './Tomofast-x/data/gravmag/mansf_slice/true_model_grav_3litho.txt'\n",
        "\n",
        "    # Path to the output model after inversion.\n",
        "    filename_model_final = './Tomofast-x/output/mansf_slice/Voxet/grav_final_voxet_full.txt'\n",
        "\n",
        "    #----------------------------------------------------------------------------------\n",
        "    # Reading data.\n",
        "    #----------------------------------------------------------------------------------\n",
        "    nelements = nx * ny * nz\n",
        "\n",
        "    # Reading the model grid.\n",
        "    model_grid = np.loadtxt(filename_model_grid, dtype=float, usecols=(0,1,2,3,4,5,6), skiprows=1)\n",
        "    model_indexes = np.loadtxt(filename_model_grid, dtype=int, usecols=(7,8,9), skiprows=1)\n",
        "\n",
        "    # Revert Z-axis.\n",
        "    model_grid[:, 4] = - model_grid[:, 4]\n",
        "    model_grid[:, 5] = - model_grid[:, 5]\n",
        "\n",
        "    assert nelements == model_grid.shape[0], \"Wrong model grid dimensions!\"\n",
        "\n",
        "    # Reading the final model.\n",
        "    model_final = np.loadtxt(filename_model_final, dtype=float, skiprows=1)\n",
        "\n",
        "    assert nelements == model_final.shape[0], \"Wrong final model dimensions!\"\n",
        "\n",
        "    #----------------------------------------------------------------------------------\n",
        "    # Extract the model slices.\n",
        "    #----------------------------------------------------------------------------------\n",
        "\n",
        "    # Extract the YZ profile.\n",
        "    nx_slice = 1\n",
        "    slice_filter = (model_indexes[:, 0] == nx_slice)\n",
        "\n",
        "    model_grid_slice = model_grid[slice_filter]\n",
        "\n",
        "    # When available the true model is stored in the grid file (7th column).\n",
        "    true_model_slice = model_grid_slice[:, 6]\n",
        "\n",
        "    # Remove X-data.\n",
        "    model_grid_slice = model_grid_slice[:, 2:6]\n",
        "\n",
        "    model_final_slice = model_final[slice_filter]\n",
        "\n",
        "    #----------------------------------------------------------------------------------\n",
        "    # Drawing the model.\n",
        "    #----------------------------------------------------------------------------------\n",
        "    grid = model_grid_slice\n",
        "\n",
        "    if(model=='True'):\n",
        "        draw_model(grid, true_model_slice, \"True model.\")\n",
        "    else:\n",
        "        draw_model(grid, model_final_slice, \"Final model.\")\n",
        "\n",
        "#=============================================================================\n"
      ],
      "metadata": {
        "id": "uaFfD63ULUQ1"
      },
      "execution_count": null,
      "outputs": []
    },
    {
      "cell_type": "code",
      "source": [
        "plot_section('True')"
      ],
      "metadata": {
        "id": "TZOWUrRkMh_l"
      },
      "execution_count": null,
      "outputs": []
    },
    {
      "cell_type": "code",
      "source": [
        "plot_section('Final')"
      ],
      "metadata": {
        "id": "5H3x4dffMn8r"
      },
      "execution_count": null,
      "outputs": []
    }
  ]
}