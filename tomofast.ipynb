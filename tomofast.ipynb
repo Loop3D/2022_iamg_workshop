{
  "nbformat": 4,
  "nbformat_minor": 0,
  "metadata": {
    "colab": {
      "name": "Untitled5.ipynb",
      "provenance": [],
      "include_colab_link": true
    },
    "kernelspec": {
      "name": "python3",
      "display_name": "Python 3"
    },
    "language_info": {
      "name": "python"
    }
  },
  "cells": [
    {
      "cell_type": "markdown",
      "metadata": {
        "id": "view-in-github",
        "colab_type": "text"
      },
      "source": [
        "<a href=\"https://colab.research.google.com/github/Loop3D/2022_iamg_workshop/blob/main/tomofast.ipynb\" target=\"_parent\"><img src=\"https://colab.research.google.com/assets/colab-badge.svg\" alt=\"Open In Colab\"/></a>"
      ]
    },
    {
      "cell_type": "markdown",
      "source": [
        "## Installing dependencies\n",
        "This notebook will use one library from the Loop project\n",
        "\n",
        "1. tomofast-x - https://github.com/TOMOFAST/Tomofast-x\n",
        "\n",
        "The following code blocks will install the required dependencies for the Loop libraries into this colab environment. Alternatively, the workshop can be run using the docker image."
      ],
      "metadata": {
        "id": "Zl_mH-3vfjV6"
      }
    },
    {
      "cell_type": "code",
      "source": [
        "!git clone https://github.com/TOMOFAST/Tomofast-x.git"
      ],
      "metadata": {
        "id": "HWFIyEq0gXxk"
      },
      "execution_count": null,
      "outputs": []
    },
    {
      "cell_type": "code",
      "source": [
        "!git clone https://github.com/TOMOFAST/Tomofast-tools.git"
      ],
      "metadata": {
        "id": "FI_earapN-Ab"
      },
      "execution_count": null,
      "outputs": []
    },
    {
      "cell_type": "code",
      "source": [
        "%cd Tomofast-x\n",
        "!make"
      ],
      "metadata": {
        "id": "lArldmnGghi1"
      },
      "execution_count": null,
      "outputs": []
    },
    {
      "cell_type": "code",
      "source": [
        "!./tomofastx -j ./parfiles/Parfile_mansf_slice.txt"
      ],
      "metadata": {
        "id": "Oa4bqGqggmJd"
      },
      "execution_count": null,
      "outputs": []
    },
    {
      "cell_type": "code",
      "source": [
        "%cd ../Tomofast-tools\n",
        "import tomofast_vis\n",
        "%cd .."
      ],
      "metadata": {
        "id": "tDVx0dFg5EpB"
      },
      "execution_count": null,
      "outputs": []
    },
    {
      "cell_type": "code",
      "source": [
        "tomofast_vis.main()"
      ],
      "metadata": {
        "id": "KHRUQZehOu1N"
      },
      "execution_count": null,
      "outputs": []
    }
  ]
}