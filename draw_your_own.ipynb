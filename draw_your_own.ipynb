{
  "nbformat": 4,
  "nbformat_minor": 0,
  "metadata": {
    "colab": {
      "name": "draw your own.ipynb",
      "provenance": [],
      "collapsed_sections": [],
      "include_colab_link": true
    },
    "kernelspec": {
      "name": "python3",
      "display_name": "Python 3"
    },
    "language_info": {
      "name": "python"
    }
  },
  "cells": [
    {
      "cell_type": "markdown",
      "metadata": {
        "id": "view-in-github",
        "colab_type": "text"
      },
      "source": [
        "<a href=\"https://colab.research.google.com/github/Loop3D/2022_iamg_workshop/blob/main/draw_your_own.ipynb\" target=\"_parent\"><img src=\"https://colab.research.google.com/assets/colab-badge.svg\" alt=\"Open In Colab\"/></a>"
      ]
    },
    {
      "cell_type": "markdown",
      "source": [
        "## Installing dependencies\n",
        "This notebook will use two libraries from the Loop project\n",
        "1. LoopStructural - https://github.com/Loop3D/LoopStructural\n",
        "2. map2loop - https://github.com/Loop3D/map2loop-2\n",
        "\n",
        "\n",
        "The following code blocks will install the required dependencies for the Loop libraries into this colab environment. Alternatively, the workshop can be run using the docker image."
      ],
      "metadata": {
        "id": "Zl_mH-3vfjV6"
      }
    },
    {
      "cell_type": "markdown",
      "source": [
        "## map2loop + LoopStructural"
      ],
      "metadata": {
        "id": "zpEojO5xi2rV"
      }
    },
    {
      "cell_type": "code",
      "source": [
        "!pip install rasterio\n",
        "!pip install git+https://github.com/geopandas/geopandas.git@v0.10.2\n",
        "!pip install hjson\n",
        "!pip install owslib\n",
        "!pip install git+https://github.com/Loop3D/map2model_cpp.git\n",
        "!pip install git+https://github.com/Loop3D/LoopProjectFile.git\n",
        "!pip install pygeos\n",
        "!pip install mplstereonet\n",
        "!pip install lavavu-osmesa\n",
        "!pip install git+https://github.com/Loop3d/LoopStructural\n",
        "!pip install git+https://github.com/Loop3D/map2loop-2.git\n",
        "!pip install beartype\n",
        "!pip install git+https://github.com/giswqs/leafmap.git\n"
      ],
      "metadata": {
        "id": "NLZHTk7vmKVj"
      },
      "execution_count": null,
      "outputs": []
    },
    {
      "cell_type": "code",
      "source": [
        "#import ipywidgets as widgets\n",
        "import os\n",
        "\n",
        "\n",
        "# load last saved map area and model engine (if they exist)\n",
        "if(not os.path.isdir('../scratch/')):\n",
        "    os.mkdir('../scratch/')\n",
        "test_data_name='Draw Your Own'"
      ],
      "metadata": {
        "id": "_gU8740Q_O5w"
      },
      "execution_count": null,
      "outputs": []
    },
    {
      "cell_type": "code",
      "source": [
        "import leafmap\n",
        "import pandas as pd\n",
        "import json\n",
        "import random\n",
        "from shapely.geometry import Polygon\n",
        "\n",
        "import ipywidgets as widgets\n",
        "import geopandas as gpd\n",
        "from shapely.geometry import Polygon\n",
        "\n",
        "\n",
        "if(not test_data_name =='Draw Your Own'):\n",
        "    if(test_data_name=='Last Area Drawn'):\n",
        "        last_coords=pd.read_csv('../scratch/last_area.csv')\n",
        "        display(last_coords)\n",
        "        minx=last_coords.iloc[0]['minx']\n",
        "        miny=last_coords.iloc[0]['miny']\n",
        "        maxx=last_coords.iloc[0]['maxx']\n",
        "        maxy=last_coords.iloc[0]['maxy']\n",
        "    elif(not test_data_name =='Draw Your Own'):\n",
        "        y_point_list = [miny, miny, maxy, maxy, maxy]\n",
        "        x_point_list = [minx, maxx, maxx, minx, minx]\n",
        "        bbox_geom = Polygon(zip(x_point_list, y_point_list))\n",
        "        polygon = gpd.GeoDataFrame(index=[0], crs=dst_crs, geometry=[bbox_geom])\n",
        "        polygon_ll=polygon.to_crs(src_crs)\n",
        "\n",
        "        minx=polygon_ll.total_bounds[0]\n",
        "        maxx=polygon_ll.total_bounds[2]\n",
        "        miny=polygon_ll.total_bounds[1]\n",
        "        maxy=polygon_ll.total_bounds[3]\n",
        "\n",
        "        minlong=minx\n",
        "        maxlong=maxx\n",
        "        minlat=miny\n",
        "        maxlat=maxy\n",
        "        #print(\"x\",polygon_ll.total_bounds[0])\n",
        "        st_bbox=[minlong,minlat,maxlong,maxlat]\n",
        "        lat_point_list = [minlat, minlat, maxlat, maxlat,maxlat]\n",
        "        lon_point_list = [minlong, maxlong, maxlong, minlong, minlong]\n",
        "        bbox_geom = Polygon(zip(lon_point_list, lat_point_list))\n",
        "        rect = gpd.GeoDataFrame(index=[0], crs=src_crs, geometry=[bbox_geom]) \n",
        "\n",
        "    \n",
        "    src_crs = \"epsg:4326\"  # coordinate reference system for imported dtms (geodetic lat/long WGS84)\n",
        "    dst_crs = \"epsg:28350\"  # coordinate reference system for imported dtms (geodetic lat/long WGS84)\n",
        "\n",
        "    bbox2=str(minx)+\",\"+str(miny)+\",\"+str(maxx)+\",\"+str(maxy)\n",
        "    y_point_list = [miny, miny, maxy, maxy, maxy]\n",
        "    x_point_list = [minx, maxx, maxx, minx, minx]\n",
        "    bbox_geom = Polygon(zip(x_point_list, y_point_list))\n",
        "    polygon = gpd.GeoDataFrame(index=[0], crs=dst_crs, geometry=[bbox_geom])\n",
        "    polygon_ll=polygon.to_crs(src_crs)\n",
        "\n",
        "    minlong=polygon_ll.total_bounds[0]\n",
        "    maxlong=polygon_ll.total_bounds[2]\n",
        "    minlat=polygon_ll.total_bounds[1]\n",
        "    maxlat=polygon_ll.total_bounds[3]\n",
        "    \n",
        "    minlong=minx\n",
        "    maxlong=maxx\n",
        "    minlat=miny\n",
        "    maxlat=maxy\n",
        "\n",
        "    lat_point_list = [minlat, minlat, maxlat, maxlat,maxlat]\n",
        "    lon_point_list = [minlong, maxlong, maxlong, minlong, minlong]\n",
        "    bbox_geom = Polygon(zip(lon_point_list, lat_point_list))\n",
        "    rect = gpd.GeoDataFrame(index=[0], crs=src_crs, geometry=[bbox_geom]) \n",
        "\n",
        "    example_rect = GeoData(geo_dataframe = rect,\n",
        "                   style={'color': 'purple', 'opacity':3, 'weight':1.9, 'dashArray':'2', 'fillOpacity':0.6},                  \n",
        "                   name = 'Example')\n",
        "    center=(minlat+((maxlat-minlat)/2),minlong+((maxlong-minlong)/2))\n",
        "else:\n",
        "    center=(-22.6,117.3)\n",
        "\n",
        "    \n",
        "m =leafmap.Map( center=center, zoom=8,scroll_wheel_zoom=True)\n",
        "m.add_basemap( basemap='OpenTopoMap')\n",
        "#label = leafmap.Label()\n",
        "#display(label)\n",
        "\n",
        "#def handle_interaction(**kwargs):\n",
        "#    if kwargs.get('type') == 'mousemove':\n",
        "#        label.value = str(kwargs.get('coordinates'))\n",
        "#m.on_interaction(handle_interaction)\n",
        "\n",
        "m.add_wms_layer(url='https://www.loopwms.xyz/geoserver/loop/wms?',\n",
        "    layers='2_5m_interpgeop15_4326',\n",
        "    format='image/png',\n",
        "    transparent=True,\n",
        "    opacity=0.4,\n",
        "    attribution='Geology data from GSWA',\n",
        "    name='geology',\n",
        "    shown=True)\n",
        "#aurl='https://www.loopwms.xyz/geoserver/loop/wms?'\n",
        "m.add_wms_layer(url='https://www.loopwms.xyz/geoserver/loop/wms?',\n",
        "#m.add_wms_layer(url='http://13.211.217.129:8080/geoserver/loop/wms?',\n",
        "    layers='2_5m_interpstrucl15_4326',\n",
        "#    layers='0',\n",
        "    format='image/png',\n",
        "    transparent=True,\n",
        "    opacity=0.4,\n",
        "    attribution='Linear features data from GSWA',\n",
        "    name='faults/folds')\n",
        "\n",
        "m.add_wms_layer(url='https://www.loopwms.xyz/geoserver/loop/wms?',\n",
        "    layers='waroxi_wa_4326_bed',\n",
        "    format='image/png',\n",
        "    transparent=True,\n",
        "    attribution='Outcrop data from GSWA',\n",
        "    name='outcrops')\n",
        "if( not test_data_name =='Draw Your Own'):\n",
        "    m.add_layer(example_rect)\n",
        "\n",
        "    \n",
        "\n",
        "\n",
        "#m.add_control(LayersControl())\n",
        "#m.add_control(FullScreenControl())\n",
        "#m.add_control(ScaleControl(position='topright'))\n",
        "\n",
        "#dc = DrawControl(rectangle={'shapeOptions': {'color': '#0000FF'}})\n",
        "#m.add_control(dc)\n",
        "\n",
        "\n",
        "m"
      ],
      "metadata": {
        "id": "b2_Bghf0AieY"
      },
      "execution_count": null,
      "outputs": []
    },
    {
      "cell_type": "code",
      "source": [
        "\n",
        "rect=m.draw_features\n",
        "if(len(rect)>0):\n",
        "  print(rect[0]['geometry']['coordinates'])\n",
        "else:\n",
        "  print('Default rectangle used, as none drawn')"
      ],
      "metadata": {
        "id": "-kkH_Mq6UrGL"
      },
      "execution_count": null,
      "outputs": []
    },
    {
      "cell_type": "code",
      "source": [
        "\n",
        "\n",
        "src_crs = \"epsg:4326\"  # coordinate reference system for imported dtms (geodetic lat/long WGS84)\n",
        "dst_crs = \"epsg:28350\" # coordinate system for example data\n",
        "\n",
        "\n",
        "use_roi_clip=False\n",
        "roi_clip_path=''\n",
        "    \n",
        "if(len(rect)==0):\n",
        "  minlong=117.13698\n",
        "  maxlong=117.564464\n",
        "  minlat= -22.690712\n",
        "  maxlat=-22.396454\n",
        "\n",
        "else:\n",
        "  minlong=rect[0]['geometry']['coordinates'][0][0][0]\n",
        "  maxlong=rect[0]['geometry']['coordinates'][0][2][0]\n",
        "  minlat= rect[0]['geometry']['coordinates'][0][0][1]\n",
        "  maxlat= rect[0]['geometry']['coordinates'][0][1][1]\n",
        "\n",
        "\n",
        "bounds=(minlong,maxlong,minlat,maxlat)\n",
        "\n",
        "\n",
        "lat_point_list = [minlat, minlat, maxlat, maxlat,maxlat]\n",
        "lon_point_list = [minlong, maxlong, maxlong, minlong, minlong]\n",
        "bbox_geom = Polygon(zip(lon_point_list, lat_point_list))\n",
        "mbbox = gpd.GeoDataFrame(index=[0], crs=src_crs, geometry=[bbox_geom]) \n",
        "bbox=mbbox.total_bounds\n",
        "st_bbox=[bbox[0],bbox[1],bbox[2],bbox[3]]\n",
        "print(src_crs,mbbox.total_bounds)\n",
        "mbbox=mbbox.to_crs(dst_crs)\n",
        "print(dst_crs,mbbox.total_bounds)"
      ],
      "metadata": {
        "id": "u10hBQyAOsjp"
      },
      "execution_count": null,
      "outputs": []
    },
    {
      "cell_type": "code",
      "source": [
        "import os\n",
        "import hjson\n",
        "from map2loop.m2l_enums import VerboseLevel\n",
        "from map2loop.project import Project\n",
        "\n",
        "savepath='./newnew3'\n",
        "proj = Project( \n",
        "                 loopdata_state = \"WA\",\n",
        "            project_path=savepath,\n",
        "    project_crs='EPSG:28350',\n",
        "    verbose_level=VerboseLevel.NONE,\n",
        "    working_projection='EPSG:28350',\n",
        "                )\n",
        "\n",
        "proj.update_config(\n",
        "                    out_dir=savepath,\n",
        "                    bbox_3d={\n",
        "                         \"minx\": mbbox.total_bounds[0], #500000,\n",
        "                         \"miny\": mbbox.total_bounds[1], #7490000,\n",
        "                         \"maxx\": mbbox.total_bounds[2], #545000,\n",
        "                         \"maxy\": mbbox.total_bounds[3], #7520000,\n",
        "                         \"base\": -4800,\n",
        "                         \"top\": 1200,\n",
        "                    },\n",
        "                    project_crs='EPSG:28350',\n",
        "                    # overwrite='true',\n",
        "                    # run_flags={'fault_dip':-999},\n",
        "                    # quiet='None',\n",
        "    \n",
        "#                     loopFilename='test.loop3d'\n",
        "                  )\n"
      ],
      "metadata": {
        "id": "qjOdEyMUi-kg"
      },
      "execution_count": null,
      "outputs": []
    },
    {
      "cell_type": "code",
      "source": [
        "proj.run()"
      ],
      "metadata": {
        "id": "__W5n8zIjnPO"
      },
      "execution_count": null,
      "outputs": []
    },
    {
      "cell_type": "code",
      "source": [
        "minx,miny,maxx,maxy = proj.config.bbox\n",
        "model_base = proj.config.bbox_3d['base']\n",
        "model_top = proj.config.bbox_3d['top']"
      ],
      "metadata": {
        "id": "Y0yLEAuO0CYm"
      },
      "execution_count": null,
      "outputs": []
    },
    {
      "cell_type": "code",
      "source": [
        "f=open(proj.config.tmp_path+'/bbox.csv','w')\n",
        "f.write('minx,miny,maxx,maxy,lower,upper\\n')\n",
        "ostr='{},{},{},{},{},{}\\n'.format(minx,miny,maxx,maxy,model_base,model_top)\n",
        "f.write(ostr)\n",
        "f.close()"
      ],
      "metadata": {
        "id": "1MexTn5y0US3"
      },
      "execution_count": null,
      "outputs": []
    },
    {
      "cell_type": "code",
      "source": [
        "from LoopStructural import GeologicalModel\n",
        "fault_params = {'interpolatortype':'FDI',\n",
        "                'nelements':1e4,\n",
        "                'step':10,\n",
        "                'fault_buffer':0.2,\n",
        "#                 'force_mesh_geometry':True,\n",
        "#                 'solver':'pyamg',\n",
        "#                 overprints:overprints,\n",
        "#                 'cpw':1,\n",
        "#                 'gpw':5,\n",
        "               }\n",
        "foliation_params = {'interpolatortype':'FDI' , # 'interpolatortype':'PLI',\n",
        "                    'nelements':5e4,  # how many tetras/voxels\n",
        "                    'buffer':2.,  # how much to extend nterpolation around box\n",
        "#                     'solver':'pyamg',\n",
        "#                     'damp':True\n",
        "                    # 'npw':0,\n",
        "                    # 'regularisation':0.5\n",
        "                   }\n",
        "\n",
        "\n",
        "model, m2l_data = GeologicalModel.from_map2loop_directory(proj.config.project_path,\n",
        "                                                              evaluate=False,\n",
        "                                                          fault_params=fault_params,\n",
        "                                                          rescale=False,\n",
        "#                                                           vectorscale=1,\n",
        "                                                          foliation_params=foliation_params)"
      ],
      "metadata": {
        "id": "2VEWddsH0V7_"
      },
      "execution_count": null,
      "outputs": []
    },
    {
      "cell_type": "code",
      "source": [
        "model.update()"
      ],
      "metadata": {
        "id": "jqrx5vDj0Zdg"
      },
      "execution_count": null,
      "outputs": []
    },
    {
      "cell_type": "code",
      "source": [
        "from LoopStructural.visualisation import LavaVuModelViewer"
      ],
      "metadata": {
        "id": "yV32JvND4a5o"
      },
      "execution_count": null,
      "outputs": []
    },
    {
      "cell_type": "code",
      "source": [
        "view = LavaVuModelViewer(model)\n",
        "view.add_model_surfaces()\n",
        "view.interactive()"
      ],
      "metadata": {
        "id": "iS1ZivfA4kkk"
      },
      "execution_count": null,
      "outputs": []
    },
    {
      "cell_type": "code",
      "source": [
        "view.display()"
      ],
      "metadata": {
        "id": "aaCh1P4b4oze"
      },
      "execution_count": null,
      "outputs": []
    },
    {
      "cell_type": "code",
      "source": [
        ""
      ],
      "metadata": {
        "id": "3sTBAQ-nTC3a"
      },
      "execution_count": null,
      "outputs": []
    }
  ]
}