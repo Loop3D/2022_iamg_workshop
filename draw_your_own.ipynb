{
  "nbformat": 4,
  "nbformat_minor": 0,
  "metadata": {
    "colab": {
      "name": "draw your own.ipynb",
      "provenance": [],
      "collapsed_sections": [],
      "include_colab_link": true
    },
    "kernelspec": {
      "name": "python3",
      "display_name": "Python 3"
    },
    "language_info": {
      "name": "python"
    }
  },
  "cells": [
    {
      "cell_type": "markdown",
      "metadata": {
        "id": "view-in-github",
        "colab_type": "text"
      },
      "source": [
        "<a href=\"https://colab.research.google.com/github/Loop3D/2022_iamg_workshop/blob/main/draw_your_own.ipynb\" target=\"_parent\"><img src=\"https://colab.research.google.com/assets/colab-badge.svg\" alt=\"Open In Colab\"/></a>"
      ]
    },
    {
      "cell_type": "markdown",
      "source": [
        "## Installing dependencies\n",
        "This notebook will use two libraries from the Loop project\n",
        "1. LoopStructural - https://github.com/Loop3D/LoopStructural\n",
        "2. map2loop - https://github.com/Loop3D/map2loop-2\n",
        "\n",
        "\n",
        "The following code blocks will install the required dependencies for the Loop libraries into this colab environment. Alternatively, the workshop can be run using the docker image."
      ],
      "metadata": {
        "id": "Zl_mH-3vfjV6"
      }
    },
    {
      "cell_type": "markdown",
      "source": [
        "## map2loop + LoopStructural"
      ],
      "metadata": {
        "id": "zpEojO5xi2rV"
      }
    },
    {
      "cell_type": "code",
      "source": [
        "!pip install rasterio\n",
        "!pip install git+https://github.com/geopandas/geopandas.git@v0.10.2\n",
        "!pip install hjson\n",
        "!pip install owslib\n",
        "!pip install git+https://github.com/Loop3D/map2model_cpp.git\n",
        "!pip install git+https://github.com/Loop3D/LoopProjectFile.git\n",
        "!pip install pygeos\n",
        "!pip install mplstereonet\n",
        "!pip install lavavu-osmesa\n",
        "!pip install git+https://github.com/Loop3d/LoopStructural\n",
        "!pip install git+https://github.com/Loop3D/map2loop-2.git\n",
        "!pip install beartype\n",
        "!pip install git+https://github.com/giswqs/leafmap.git\n"
      ],
      "metadata": {
        "id": "NLZHTk7vmKVj"
      },
      "execution_count": null,
      "outputs": []
    },
    {
      "cell_type": "code",
      "source": [
        "\n",
        "import leafmap\n",
        "import pandas as pd\n",
        "import json\n",
        "import random\n",
        "from shapely.geometry import Polygon\n",
        "import ipywidgets as widgets\n",
        "import geopandas as gpd\n",
        "import os\n",
        "import hjson\n",
        "from map2loop.m2l_enums import VerboseLevel\n",
        "from map2loop.project import Project\n",
        "import random\n",
        "from LoopStructural import GeologicalModel\n",
        "from LoopStructural.visualisation import LavaVuModelViewer\n"
      ],
      "metadata": {
        "id": "b2_Bghf0AieY"
      },
      "execution_count": null,
      "outputs": []
    },
    {
      "cell_type": "code",
      "source": [
        "center=(-22.6,117.3)\n",
        "\n",
        "m =leafmap.Map( center=center, zoom=8,scroll_wheel_zoom=True)\n",
        "m.add_basemap( basemap='OpenTopoMap')\n",
        "\n",
        "m.add_wms_layer(url='https://www.loopwms.xyz/geoserver/loop/wms?',\n",
        "    layers='2_5m_interpgeop15_4326',\n",
        "    format='image/png',\n",
        "    transparent=True,\n",
        "    opacity=0.4,\n",
        "    attribution='Geology data from GSWA',\n",
        "    name='geology',\n",
        "    shown=True)\n",
        "aurl='https://www.loopwms.xyz/geoserver/loop/wms?'\n",
        "m.add_wms_layer(url='https://www.loopwms.xyz/geoserver/loop/wms?',\n",
        "#m.add_wms_layer(url='https://13.211.217.129:8080/geoserver/loop/wms?',\n",
        "#    layers='2_5m_interpstrucl15_4326',\n",
        "    layers='2_5m_interpstrucl15_4326',\n",
        "    format='image/png',\n",
        "    transparent=True,\n",
        "    opacity=0.4,\n",
        "    attribution='Linear features data from GSWA',\n",
        "    name='faults/folds')\n",
        "\n",
        "m.add_wms_layer(url='https://www.loopwms.xyz/geoserver/loop/wms?',\n",
        "    layers='waroxi_wa_4326_bed',\n",
        "    format='image/png',\n",
        "    transparent=True,\n",
        "    attribution='Outcrop data from GSWA',\n",
        "    name='outcrops')\n",
        "\n",
        "m"
      ],
      "metadata": {
        "id": "8duhv3JKGDih"
      },
      "execution_count": null,
      "outputs": []
    },
    {
      "cell_type": "code",
      "source": [
        "\n",
        "rect=m.draw_features\n",
        "\n",
        "if(len(rect)==0):\n",
        "  minlong=117.13698\n",
        "  maxlong=117.564464\n",
        "  minlat= -22.690712\n",
        "  maxlat=-22.396454\n",
        "\n",
        "else:\n",
        "  minlong=rect[0]['geometry']['coordinates'][0][0][0]\n",
        "  maxlong=rect[0]['geometry']['coordinates'][0][2][0]\n",
        "  minlat= rect[0]['geometry']['coordinates'][0][0][1]\n",
        "  maxlat= rect[0]['geometry']['coordinates'][0][1][1]"
      ],
      "metadata": {
        "id": "-kkH_Mq6UrGL"
      },
      "execution_count": null,
      "outputs": []
    },
    {
      "cell_type": "code",
      "source": [
        "src_crs = \"epsg:4326\"  # coordinate reference system for imported dtms (geodetic lat/long WGS84)\n",
        "dst_crs = \"epsg:28350\" # coordinate system for example data\n",
        "\n",
        "\n",
        "use_roi_clip=False\n",
        "roi_clip_path=''\n",
        "    \n",
        "\n",
        "bounds=(minlong,maxlong,minlat,maxlat)\n",
        "\n",
        "\n",
        "lat_point_list = [minlat, minlat, maxlat, maxlat,maxlat]\n",
        "lon_point_list = [minlong, maxlong, maxlong, minlong, minlong]\n",
        "bbox_geom = Polygon(zip(lon_point_list, lat_point_list))\n",
        "mbbox = gpd.GeoDataFrame(index=[0], crs=src_crs, geometry=[bbox_geom]) \n",
        "bbox=mbbox.total_bounds\n",
        "st_bbox=[bbox[0],bbox[1],bbox[2],bbox[3]]\n",
        "print(src_crs,mbbox.total_bounds)\n",
        "mbbox=mbbox.to_crs(dst_crs)\n",
        "print(dst_crs,mbbox.total_bounds)"
      ],
      "metadata": {
        "id": "u10hBQyAOsjp"
      },
      "execution_count": null,
      "outputs": []
    },
    {
      "cell_type": "code",
      "source": [
        "savepath=str(random.randint(1,10000))\n",
        "proj = Project( \n",
        "                 loopdata_state = \"WA\",\n",
        "            project_path=savepath,\n",
        "    project_crs='EPSG:28350',\n",
        "    verbose_level=VerboseLevel.NONE,\n",
        "    working_projection='EPSG:28350',\n",
        "                )\n",
        "\n",
        "proj.update_config(\n",
        "                    out_dir=savepath,\n",
        "                    bbox_3d={\n",
        "                         \"minx\": mbbox.total_bounds[0], #500000,\n",
        "                         \"miny\": mbbox.total_bounds[1], #7490000,\n",
        "                         \"maxx\": mbbox.total_bounds[2], #545000,\n",
        "                         \"maxy\": mbbox.total_bounds[3], #7520000,\n",
        "                         \"base\": -4800,\n",
        "                         \"top\": 1200,\n",
        "                    },\n",
        "                    project_crs='EPSG:28350',\n",
        "\n",
        "                  )\n"
      ],
      "metadata": {
        "id": "qjOdEyMUi-kg"
      },
      "execution_count": null,
      "outputs": []
    },
    {
      "cell_type": "code",
      "source": [
        "proj.run()"
      ],
      "metadata": {
        "id": "__W5n8zIjnPO"
      },
      "execution_count": null,
      "outputs": []
    },
    {
      "cell_type": "code",
      "source": [
        "minx,miny,maxx,maxy = proj.config.bbox\n",
        "model_base = proj.config.bbox_3d['base']\n",
        "model_top = proj.config.bbox_3d['top']"
      ],
      "metadata": {
        "id": "Y0yLEAuO0CYm"
      },
      "execution_count": null,
      "outputs": []
    },
    {
      "cell_type": "code",
      "source": [
        "f=open(proj.config.tmp_path+'/bbox.csv','w')\n",
        "f.write('minx,miny,maxx,maxy,lower,upper\\n')\n",
        "ostr='{},{},{},{},{},{}\\n'.format(minx,miny,maxx,maxy,model_base,model_top)\n",
        "f.write(ostr)\n",
        "f.close()"
      ],
      "metadata": {
        "id": "1MexTn5y0US3"
      },
      "execution_count": null,
      "outputs": []
    },
    {
      "cell_type": "code",
      "source": [
        "fault_params = {'interpolatortype':'FDI',\n",
        "                'nelements':1e4,\n",
        "                'step':10,\n",
        "                'fault_buffer':0.2,\n",
        "\n",
        "               }\n",
        "foliation_params = {'interpolatortype':'FDI' , # 'interpolatortype':'PLI',\n",
        "                    'nelements':5e4,  # how many tetras/voxels\n",
        "                    'buffer':2.,  # how much to extend nterpolation around box\n",
        "\n",
        "                   }\n",
        "\n",
        "\n",
        "model, m2l_data = GeologicalModel.from_map2loop_directory(proj.config.project_path,\n",
        "                                                          evaluate=False,\n",
        "                                                          fault_params=fault_params,\n",
        "                                                          rescale=False,\n",
        "                                                          foliation_params=foliation_params)"
      ],
      "metadata": {
        "id": "2VEWddsH0V7_"
      },
      "execution_count": null,
      "outputs": []
    },
    {
      "cell_type": "code",
      "source": [
        "model.update()"
      ],
      "metadata": {
        "id": "jqrx5vDj0Zdg"
      },
      "execution_count": null,
      "outputs": []
    },
    {
      "cell_type": "code",
      "source": [
        "view = LavaVuModelViewer(model)\n",
        "view.add_model_surfaces()\n",
        "view.interactive()"
      ],
      "metadata": {
        "id": "iS1ZivfA4kkk"
      },
      "execution_count": null,
      "outputs": []
    },
    {
      "cell_type": "code",
      "source": [
        " view.display()"
      ],
      "metadata": {
        "id": "aaCh1P4b4oze"
      },
      "execution_count": null,
      "outputs": []
    }
  ]
}