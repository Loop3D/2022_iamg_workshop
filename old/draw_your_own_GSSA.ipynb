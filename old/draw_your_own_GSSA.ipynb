{
  "nbformat": 4,
  "nbformat_minor": 0,
  "metadata": {
    "colab": {
      "name": "draw your own.ipynb",
      "provenance": [],
      "collapsed_sections": [],
      "include_colab_link": true
    },
    "kernelspec": {
      "name": "python3",
      "display_name": "Python 3"
    },
    "language_info": {
      "name": "python"
    }
  },
  "cells": [
    {
      "cell_type": "markdown",
      "metadata": {
        "id": "view-in-github",
        "colab_type": "text"
      },
      "source": [
        "<a href=\"https://colab.research.google.com/github/Loop3D/2022_iamg_workshop/blob/main/draw_your_own_GSSA.ipynb\" target=\"_parent\"><img src=\"https://colab.research.google.com/assets/colab-badge.svg\" alt=\"Open In Colab\"/></a>"
      ]
    },
    {
      "cell_type": "markdown",
      "source": [
        "## Installing dependencies\n",
        "This notebook will use two libraries from the Loop project\n",
        "1. LoopStructural - https://github.com/Loop3D/LoopStructural\n",
        "2. map2loop - https://github.com/Loop3D/map2loop-2\n",
        "\n",
        "\n",
        "The following code blocks will install the required dependencies for the Loop libraries into this colab environment. Alternatively, the workshop can be run using the docker image."
      ],
      "metadata": {
        "id": "Zl_mH-3vfjV6"
      }
    },
    {
      "cell_type": "markdown",
      "source": [
        "## map2loop + LoopStructural"
      ],
      "metadata": {
        "id": "zpEojO5xi2rV"
      }
    },
    {
      "cell_type": "code",
      "source": [
        "!pip install rasterio\n",
        "!pip install git+https://github.com/geopandas/geopandas.git@v0.10.2\n",
        "!pip install hjson\n",
        "!pip install owslib\n",
        "!pip install git+https://github.com/Loop3D/map2model_cpp.git\n",
        "!pip install git+https://github.com/Loop3D/LoopProjectFile.git\n",
        "!pip install pygeos\n",
        "!pip install mplstereonet\n",
        "!pip install lavavu-osmesa\n",
        "!pip install LoopStructural\n",
        "!pip install git+https://github.com/Loop3D/map2loop-2.git\n",
        "!pip install beartype\n",
        "!pip install git+https://github.com/giswqs/leafmap.git\n"
      ],
      "metadata": {
        "id": "NLZHTk7vmKVj"
      },
      "execution_count": null,
      "outputs": []
    },
    {
      "cell_type": "code",
      "source": [
        "\n",
        "import leafmap\n",
        "import pandas as pd\n",
        "import json\n",
        "import random\n",
        "from shapely.geometry import Polygon\n",
        "import ipywidgets as widgets\n",
        "import geopandas as gpd\n",
        "import os\n",
        "import hjson\n",
        "from map2loop.m2l_enums import VerboseLevel\n",
        "from map2loop.project import Project\n",
        "import random\n",
        "from LoopStructural import GeologicalModel\n",
        "from LoopStructural.visualisation import LavaVuModelViewer\n"
      ],
      "metadata": {
        "id": "b2_Bghf0AieY"
      },
      "execution_count": null,
      "outputs": []
    },
    {
      "cell_type": "code",
      "source": [
        "center=(-32.8,138.8)\n",
        "\n",
        "m =leafmap.Map( center=center, zoom=8,scroll_wheel_zoom=True)\n",
        "m.add_basemap( basemap='OpenTopoMap')\n",
        "\n",
        "m.add_wms_layer(url='https://www.loopwms.xyz/geoserver/SA/wms?',\n",
        "    layers='flinders_geol',\n",
        "    format='image/png',\n",
        "    transparent=True,\n",
        "    opacity=0.4,\n",
        "    attribution='Geology data from GSSA',\n",
        "    name='geology',\n",
        "    shown=True)\n",
        "aurl='https://www.loopwms.xyz/geoserver/SA/wms?'\n",
        "m.add_wms_layer(url='https://www.loopwms.xyz/geoserver/SA/wms?',\n",
        "#m.add_wms_layer(url='https://13.211.217.129:8080/geoserver/loop/wms?',\n",
        "#    layers='2_5m_interpstrucl15_4326',\n",
        "    layers='flinders_faults',\n",
        "    format='image/png',\n",
        "    transparent=True,\n",
        "    opacity=0.4,\n",
        "    attribution='Linear features data from GSSA',\n",
        "    name='faults/folds')\n",
        "\n",
        "m.add_wms_layer(url='https://www.loopwms.xyz/geoserver/SA/wms?',\n",
        "    layers='flinders_structures',\n",
        "    format='image/png',\n",
        "    transparent=True,\n",
        "    attribution='Outcrop data from GSSA',\n",
        "    name='outcrops')\n",
        "\n",
        "m"
      ],
      "metadata": {
        "id": "8duhv3JKGDih"
      },
      "execution_count": null,
      "outputs": []
    },
    {
      "cell_type": "code",
      "source": [
        "\n",
        "rect=m.draw_features\n",
        "\n",
        "if(len(rect)==0): \n",
        "  minlong=138.68\n",
        "  maxlong=139.05\n",
        "  minlat= -33.23\n",
        "  maxlat= -33.53\n",
        "\n",
        "else:\n",
        "  minlong=rect[0]['geometry']['coordinates'][0][0][0]\n",
        "  maxlong=rect[0]['geometry']['coordinates'][0][2][0]\n",
        "  minlat= rect[0]['geometry']['coordinates'][0][0][1]\n",
        "  maxlat= rect[0]['geometry']['coordinates'][0][1][1]"
      ],
      "metadata": {
        "id": "-kkH_Mq6UrGL"
      },
      "execution_count": null,
      "outputs": []
    },
    {
      "cell_type": "code",
      "source": [
        "src_crs = \"epsg:4326\"  # coordinate reference system for imported dtms (geodetic lat/long WGS84)\n",
        "dst_crs = \"epsg:28354\" # coordinate system for example data\n",
        "\n",
        "\n",
        "use_roi_clip=False\n",
        "roi_clip_path=''\n",
        "    \n",
        "\n",
        "bounds=(minlong,maxlong,minlat,maxlat)\n",
        "\n",
        "\n",
        "lat_point_list = [minlat, minlat, maxlat, maxlat,maxlat]\n",
        "lon_point_list = [minlong, maxlong, maxlong, minlong, minlong]\n",
        "bbox_geom = Polygon(zip(lon_point_list, lat_point_list))\n",
        "mbbox = gpd.GeoDataFrame(index=[0], crs=src_crs, geometry=[bbox_geom]) \n",
        "bbox=mbbox.total_bounds\n",
        "st_bbox=[bbox[0],bbox[1],bbox[2],bbox[3]]\n",
        "print(src_crs,mbbox.total_bounds)\n",
        "mbbox=mbbox.to_crs(dst_crs)\n",
        "print(dst_crs,mbbox.total_bounds)"
      ],
      "metadata": {
        "id": "u10hBQyAOsjp"
      },
      "execution_count": null,
      "outputs": []
    },
    {
      "cell_type": "code",
      "source": [
        "savepath=str(random.randint(1,10000))\n",
        "proj = Project( \n",
        "                 loopdata_state = \"SA\",\n",
        "            project_path=savepath,\n",
        "    project_crs='EPSG:28354',\n",
        "    verbose_level=VerboseLevel.NONE,\n",
        "    working_projection='EPSG:28354',\n",
        "    metadata_filename='./GSSA.json',\n",
        "\n",
        "                )\n",
        "\n",
        "proj.update_config(\n",
        "                    out_dir=savepath,\n",
        "                    bbox_3d={\n",
        "                         \"minx\": mbbox.total_bounds[0], #500000,\n",
        "                         \"miny\": mbbox.total_bounds[1], #7490000,\n",
        "                         \"maxx\": mbbox.total_bounds[2], #545000,\n",
        "                         \"maxy\": mbbox.total_bounds[3], #7520000,\n",
        "                         \"base\": -4800,\n",
        "                         \"top\": 1200,\n",
        "                    },\n",
        "                   run_flags={                        \n",
        "                        'close_dip': -999,\n",
        "                        'contact_decimate': 5,\n",
        "                        'contact_dip': -999,\n",
        "                        'contact_orientation_decimate': 5,\n",
        "                        'deposits': \"Fe,Cu,Au,NONE\",\n",
        "                        'dist_buffer': 10,\n",
        "                        'dtb': '',\n",
        "                        'fat_step': 750,\n",
        "                        'fault_decimate': 5,\n",
        "                        'fault_dip': 90,\n",
        "                        'fold_decimate': 5,\n",
        "                        'interpolation_scheme': 'scipy_rbf',\n",
        "                        'interpolation_spacing': 500,\n",
        "                        'intrusion_mode': 0,\n",
        "                        'max_thickness_allowed': 10000,\n",
        "                        'min_fault_length': 5000,\n",
        "                        'misorientation': 30,\n",
        "                        'null_scheme': 'null',\n",
        "                        'orientation_decimate': 0,\n",
        "                        'pluton_dip': 45,\n",
        "                        'pluton_form': 'saucers',\n",
        "                        'thickness_buffer': 5000,\n",
        "                        'use_fat': False,\n",
        "                        'use_interpolations': False,\n",
        "                        'fault_orientation_clusters':2,\n",
        "                        'fault_length_clusters':2,\n",
        "                        'drift_prefix':['Q','T','water'],},\n",
        "                    project_crs='EPSG:28354',\n",
        "\n",
        "                  )\n"
      ],
      "metadata": {
        "id": "qjOdEyMUi-kg"
      },
      "execution_count": null,
      "outputs": []
    },
    {
      "cell_type": "code",
      "source": [
        "proj.run()"
      ],
      "metadata": {
        "id": "__W5n8zIjnPO"
      },
      "execution_count": null,
      "outputs": []
    },
    {
      "cell_type": "code",
      "source": [
        "minx,miny,maxx,maxy = proj.config.bbox\n",
        "model_base = proj.config.bbox_3d['base']\n",
        "model_top = proj.config.bbox_3d['top']"
      ],
      "metadata": {
        "id": "Y0yLEAuO0CYm"
      },
      "execution_count": null,
      "outputs": []
    },
    {
      "cell_type": "code",
      "source": [
        "f=open(proj.config.tmp_path+'/bbox.csv','w')\n",
        "f.write('minx,miny,maxx,maxy,lower,upper\\n')\n",
        "ostr='{},{},{},{},{},{}\\n'.format(minx,miny,maxx,maxy,model_base,model_top)\n",
        "f.write(ostr)\n",
        "f.close()"
      ],
      "metadata": {
        "id": "1MexTn5y0US3"
      },
      "execution_count": null,
      "outputs": []
    },
    {
      "cell_type": "code",
      "source": [
        "fault_params = {'interpolatortype':'FDI',\n",
        "                'nelements':1e4,\n",
        "                #'step':10,\n",
        "                #'fault_buffer':0.2,\n",
        "\n",
        "               }\n",
        "foliation_params = {'interpolatortype':'FDI' , # 'interpolatortype':'PLI',\n",
        "                    'nelements':1e5,  # how many tetras/voxels\n",
        "                    #'buffer':2.,  # how much to extend nterpolation around box\n",
        "\n",
        "                   }\n",
        "\n",
        "\n",
        "model, m2l_data = GeologicalModel.from_map2loop_directory(proj.config.project_path,\n",
        "                                                          evaluate=False,\n",
        "                                                          fault_params=fault_params,\n",
        "                                                          rescale=False,\n",
        "                                                          foliation_params=foliation_params)"
      ],
      "metadata": {
        "id": "2VEWddsH0V7_"
      },
      "execution_count": null,
      "outputs": []
    },
    {
      "cell_type": "code",
      "source": [
        "model.update()"
      ],
      "metadata": {
        "id": "jqrx5vDj0Zdg"
      },
      "execution_count": null,
      "outputs": []
    },
    {
      "cell_type": "code",
      "source": [
        "view = LavaVuModelViewer(model)\n",
        "#view.add_model_surfaces()\n",
        "view.nelements = 1e5\n",
        "view.add_model_surfaces(faults=False)\n",
        "view.nelements=1e6\n",
        "view.add_model_surfaces(strati=False)\n",
        "\n",
        "view.interactive()"
      ],
      "metadata": {
        "id": "iS1ZivfA4kkk"
      },
      "execution_count": null,
      "outputs": []
    },
    {
      "cell_type": "code",
      "source": [
        " view.display()"
      ],
      "metadata": {
        "id": "aaCh1P4b4oze"
      },
      "execution_count": null,
      "outputs": []
    },
    {
      "cell_type": "code",
      "source": [
        "proj.config.tmp_path"
      ],
      "metadata": {
        "id": "e-6-5MOCwUAX"
      },
      "execution_count": null,
      "outputs": []
    }
  ]
}